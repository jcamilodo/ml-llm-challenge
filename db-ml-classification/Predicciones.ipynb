{
 "cells": [
  {
   "cell_type": "code",
   "execution_count": 0,
   "metadata": {
    "application/vnd.databricks.v1+cell": {
     "cellMetadata": {
      "byteLimit": 2048000,
      "rowLimit": 10000
     },
     "inputWidgets": {},
     "nuid": "274f5f7c-913b-41a0-b38b-1c5ea80acefa",
     "showTitle": false,
     "title": ""
    }
   },
   "outputs": [],
   "source": [
    "prediction_names = {\n",
    "    0: \"variedad A\",\n",
    "    1: \"variedad B\",\n",
    "    2: \"variedad C\"\n",
    "}"
   ]
  },
  {
   "cell_type": "code",
   "execution_count": 0,
   "metadata": {
    "application/vnd.databricks.v1+cell": {
     "cellMetadata": {
      "byteLimit": 2048000,
      "rowLimit": 10000
     },
     "inputWidgets": {},
     "nuid": "9e613a53-9609-4635-9ba6-46f3f8c60622",
     "showTitle": true,
     "title": "Prediccion SVM"
    }
   },
   "outputs": [
    {
     "output_type": "stream",
     "name": "stdout",
     "output_type": "stream",
     "text": [
      "Prediction 1: variedad A\nPrediction 2: variedad A\n"
     ]
    }
   ],
   "source": [
    "import mlflow\n",
    "import pandas as pd\n",
    "import numpy as np\n",
    "\n",
    "logged_model = 'runs:/e290775f7b9a4a18ad9f01e65c283957/model'\n",
    "\n",
    "# Load model as a PyFuncModel.\n",
    "loaded_model = mlflow.pyfunc.load_model(logged_model)\n",
    "\n",
    "predict1 = np.array([[13.72,1.43,2.5,16.7,108,3.4,3.67,0.19,2.04,6.8,0.89,2.87,1285]])\n",
    "# Predict on a Pandas DataFrame.\n",
    "l = loaded_model.predict(pd.DataFrame(predict1))\n",
    "\n",
    "print(\"Prediction 1:\", prediction_names.get(l[0]))\n",
    "\n",
    "predict2 = np.array([[12.37,0.94,1.36,10.6,88,1.98,0.57,0.28,0.42,1.95,1.05,1.82,520]])\n",
    "l = loaded_model.predict(pd.DataFrame(predict2))\n",
    "print(\"Prediction 2:\", prediction_names.get(l[0]))\n",
    "\n"
   ]
  },
  {
   "cell_type": "code",
   "execution_count": 0,
   "metadata": {
    "application/vnd.databricks.v1+cell": {
     "cellMetadata": {
      "byteLimit": 2048000,
      "rowLimit": 10000
     },
     "inputWidgets": {},
     "nuid": "d2b3a363-6157-4d63-9b4a-5b74a785b796",
     "showTitle": true,
     "title": "Prediccion con NN"
    }
   },
   "outputs": [
    {
     "output_type": "stream",
     "name": "stdout",
     "output_type": "stream",
     "text": [
      "Prediction 1: variedad A\nPrediction 2: variedad A\n"
     ]
    }
   ],
   "source": [
    "import mlflow\n",
    "import pandas as pd\n",
    "import numpy as np\n",
    "\n",
    "logged_model = 'runs:/609a731fc0d64976900de7d85970bca6/model'\n",
    "\n",
    "# Load model as a PyFuncModel.\n",
    "loaded_model = mlflow.pyfunc.load_model(logged_model)\n",
    "\n",
    "predict1 = np.array([[13.72,1.43,2.5,16.7,108,3.4,3.67,0.19,2.04,6.8,0.89,2.87,1285]])\n",
    "# Predict on a Pandas DataFrame.\n",
    "l = loaded_model.predict(pd.DataFrame(predict1))\n",
    "print(\"Prediction 1:\", prediction_names.get(l[0]))\n",
    "\n",
    "predict2 = np.array([[12.37,0.94,1.36,10.6,88,1.98,0.57,0.28,0.42,1.95,1.05,1.82,520]])\n",
    "l = loaded_model.predict(pd.DataFrame(predict2))\n",
    "print(\"Prediction 2:\", prediction_names.get(l[0]))\n"
   ]
  },
  {
   "cell_type": "code",
   "execution_count": 0,
   "metadata": {
    "application/vnd.databricks.v1+cell": {
     "cellMetadata": {
      "byteLimit": 2048000,
      "rowLimit": 10000
     },
     "inputWidgets": {},
     "nuid": "505a5ffb-148e-4557-9e17-343e7190edb9",
     "showTitle": true,
     "title": "Predicción con Naive Bayes"
    }
   },
   "outputs": [
    {
     "output_type": "stream",
     "name": "stdout",
     "output_type": "stream",
     "text": [
      "Prediction 1: variedad A\nPrediction 2: variedad A\n"
     ]
    }
   ],
   "source": [
    "import mlflow\n",
    "import pandas as pd\n",
    "import numpy as np\n",
    "\n",
    "logged_model = 'runs:/0360ce564c5648bf815495eee199eff6/model'\n",
    "\n",
    "# Load model as a PyFuncModel.\n",
    "loaded_model = mlflow.pyfunc.load_model(logged_model)\n",
    "\n",
    "predict1 = np.array([[13.72,1.43,2.5,16.7,108,3.4,3.67,0.19,2.04,6.8,0.89,2.87,1285]])\n",
    "# Predict on a Pandas DataFrame.\n",
    "l = loaded_model.predict(pd.DataFrame(predict1))\n",
    "print(\"Prediction 1:\", prediction_names.get(l[0]))\n",
    "\n",
    "predict2 = np.array([[12.37,0.94,1.36,10.6,88,1.98,0.57,0.28,0.42,1.95,1.05,1.82,520]])\n",
    "l = loaded_model.predict(pd.DataFrame(predict2))\n",
    "print(\"Prediction 2:\", prediction_names.get(l[0]))\n"
   ]
  },
  {
   "cell_type": "code",
   "execution_count": 0,
   "metadata": {
    "application/vnd.databricks.v1+cell": {
     "cellMetadata": {
      "byteLimit": 2048000,
      "rowLimit": 10000
     },
     "inputWidgets": {},
     "nuid": "b843a056-7967-4d93-947e-bb351589f9e2",
     "showTitle": true,
     "title": "Prediccion con KNN"
    }
   },
   "outputs": [
    {
     "output_type": "stream",
     "name": "stdout",
     "output_type": "stream",
     "text": [
      "Prediction 1: variedad A\nPrediction 2: variedad A\n"
     ]
    }
   ],
   "source": [
    "import mlflow\n",
    "import pandas as pd\n",
    "import numpy as np\n",
    "import warnings\n",
    "warnings.filterwarnings('ignore')\n",
    "\n",
    "logged_model = 'runs:/10b19d02e6274e7c954b43806e008013/model'\n",
    "\n",
    "# Load model as a PyFuncModel.\n",
    "loaded_model = mlflow.pyfunc.load_model(logged_model)\n",
    "\n",
    "predict1 = np.array([[13.72,1.43,2.5,16.7,108,3.4,3.67,0.19,2.04,6.8,0.89,2.87,1285]])\n",
    "# Predict on a Pandas DataFrame.\n",
    "l = loaded_model.predict(pd.DataFrame(predict1))\n",
    "print(\"Prediction 1:\", prediction_names.get(l[0]))\n",
    "\n",
    "l = loaded_model.predict(pd.DataFrame(predict2))\n",
    "print(\"Prediction 2:\", prediction_names.get(l[0]))\n"
   ]
  }
 ],
 "metadata": {
  "application/vnd.databricks.v1+notebook": {
   "dashboards": [],
   "environmentMetadata": null,
   "language": "python",
   "notebookMetadata": {
    "pythonIndentUnit": 4
   },
   "notebookName": "Predicciones",
   "widgets": {}
  }
 },
 "nbformat": 4,
 "nbformat_minor": 0
}
