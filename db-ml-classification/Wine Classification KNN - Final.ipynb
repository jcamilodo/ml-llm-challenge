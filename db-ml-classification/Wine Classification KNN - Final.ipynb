{
 "cells": [
  {
   "cell_type": "markdown",
   "metadata": {
    "application/vnd.databricks.v1+cell": {
     "cellMetadata": {
      "byteLimit": 2048000,
      "rowLimit": 10000
     },
     "inputWidgets": {},
     "nuid": "f37b1e87-c62c-40bf-99b0-816f53d7b04a",
     "showTitle": false,
     "title": ""
    }
   },
   "source": [
    "# Entrenamiento de modelo Wine Classification KNN (Vecinos mas cercanos)"
   ]
  },
  {
   "cell_type": "markdown",
   "metadata": {
    "application/vnd.databricks.v1+cell": {
     "cellMetadata": {
      "byteLimit": 2048000,
      "rowLimit": 10000
     },
     "inputWidgets": {},
     "nuid": "df6c80d1-bad4-4faf-a6be-bfc20f540aa1",
     "showTitle": false,
     "title": ""
    }
   },
   "source": [
    "Basado en el desarrollo que se realizo en el  [libro](https://databricks-prod-cloudfront.cloud.databricks.com/public/4027ec902e239c93eaaa8714f173bcfc/1365877123506783/3295404153434753/8948153789405631/latest.html), donde se valoraron varios algoritmos, este libro creara el modelo para  Nearest Neighbors\n"
   ]
  },
  {
   "cell_type": "markdown",
   "metadata": {
    "application/vnd.databricks.v1+cell": {
     "cellMetadata": {
      "byteLimit": 2048000,
      "rowLimit": 10000
     },
     "inputWidgets": {},
     "nuid": "e7d17fe1-861e-41b2-94ec-aa26e0b36248",
     "showTitle": false,
     "title": ""
    }
   },
   "source": [
    "Cambiar la referencia de la clase wine_class a:\n",
    "\n",
    "- 1 por 0 (variedad A)\n",
    "- 2 por 1 (variedad B)\n",
    "- 3 por 2 (variedad C)"
   ]
  },
  {
   "cell_type": "code",
   "execution_count": 0,
   "metadata": {
    "application/vnd.databricks.v1+cell": {
     "cellMetadata": {
      "byteLimit": 2048000,
      "rowLimit": 10000
     },
     "inputWidgets": {},
     "nuid": "d9740f1e-84c4-433b-9462-b4a3f20917a5",
     "showTitle": false,
     "title": ""
    }
   },
   "outputs": [],
   "source": [
    "import os\n",
    "import mlflow\n",
    "import mlflow.sklearn\n",
    "import pandas as pd\n",
    "import numpy as np\n",
    "import matplotlib.pyplot as plt\n",
    "import seaborn as sns\n",
    "\n",
    "from sklearn.model_selection import train_test_split\n",
    "from sklearn.neighbors import KNeighborsClassifier\n",
    "from sklearn.pipeline import make_pipeline\n",
    "from sklearn.preprocessing import StandardScaler\n",
    "\n",
    "from sklearn.metrics import mean_squared_error, classification_report,confusion_matrix\n",
    "import warnings\n",
    "warnings.filterwarnings('ignore')"
   ]
  },
  {
   "cell_type": "code",
   "execution_count": 0,
   "metadata": {
    "application/vnd.databricks.v1+cell": {
     "cellMetadata": {
      "byteLimit": 2048000,
      "rowLimit": 10000
     },
     "inputWidgets": {},
     "nuid": "f32d566c-0f1f-415b-bc0d-a72d3325a50c",
     "showTitle": false,
     "title": ""
    }
   },
   "outputs": [],
   "source": [
    "\"\"\"\n",
    "Leer los datos y asignar columnas\n",
    "\"\"\"\n",
    "def read_data():\n",
    "  file_name = \"https://archive.ics.uci.edu/ml/machine-learning-databases/wine/wine.data\"\n",
    "  df = pd.read_csv(f\"{file_name}\", sep=\",\", engine='python')\n",
    "  COL_NAMES = [\"wine_class\", \"alcohol\", \"malic_acid\", \"ash\", \"alcalinity_of_ash\", \"magnesium\", \"total_phenols\", \"flavanoids\", \"nonflavanoid_phenols\", \"proanthocyanins\", \"color_intensity\", \"hue\", \"od280_od315_of_diluted_wines\", \"proline\"]\n",
    "  df.columns = COL_NAMES  \n",
    "  return df\n"
   ]
  },
  {
   "cell_type": "code",
   "execution_count": 0,
   "metadata": {
    "application/vnd.databricks.v1+cell": {
     "cellMetadata": {
      "byteLimit": 2048000,
      "rowLimit": 10000
     },
     "inputWidgets": {},
     "nuid": "8f654645-4266-4b61-b4bd-c10c6e3160cf",
     "showTitle": false,
     "title": ""
    }
   },
   "outputs": [],
   "source": [
    "# mlflow.sklearn.autolog() requires mlflow 1.11.0 or above.\n",
    "mlflow.sklearn.autolog()\n",
    "# With autolog() enabled, all model parameters, a model score, and the fitted model are automatically logged.  \n",
    "with mlflow.start_run(run_name=\"training-knn\"):\n",
    "    wine_dataframe = read_data()\n",
    "    #Asignación de la nueva clase, se reemplazan los valores\n",
    "    wine_dataframe['wine_class'] = wine_dataframe.wine_class.replace({1: 0, 2: 1, 3: 2})\n",
    "    X = wine_dataframe.iloc[: , 1:].values\n",
    "    y = wine_dataframe.iloc[: ,0].values\n",
    "    X_train,X_test,y_train,y_test = train_test_split(X,y,test_size=0.20)\n",
    "\n",
    "    sc=StandardScaler()\n",
    "    X_train = sc.fit_transform(X_train)\n",
    "    X_test = sc.fit_transform(X_test)\n",
    "    \n",
    "    run_id = mlflow.active_run().info.run_id\n",
    "\n",
    "    model = KNeighborsClassifier(n_neighbors=7)\n",
    "    model.fit(X_train, y_train)\n",
    "    score = model.score(X_test, y_test)\n",
    "    y_pred = model.predict(X_test)\n",
    "    cm = confusion_matrix(y_test,y_pred)\n"
   ]
  }
 ],
 "metadata": {
  "application/vnd.databricks.v1+notebook": {
   "dashboards": [],
   "environmentMetadata": null,
   "language": "python",
   "notebookMetadata": {
    "pythonIndentUnit": 4
   },
   "notebookName": "Wine Classification KNN - Final",
   "widgets": {}
  }
 },
 "nbformat": 4,
 "nbformat_minor": 0
}
